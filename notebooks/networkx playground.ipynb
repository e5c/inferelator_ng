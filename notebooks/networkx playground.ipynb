{
 "cells": [
  {
   "cell_type": "code",
   "execution_count": 1,
   "metadata": {
    "collapsed": false
   },
   "outputs": [],
   "source": [
    "import networkx as nx\n",
    "import pandas as pd\n",
    "import sys\n",
    "from os import getcwd, path\n",
    "sys.path.append(path.dirname(getcwd()))"
   ]
  },
  {
   "cell_type": "code",
   "execution_count": 2,
   "metadata": {
    "collapsed": true
   },
   "outputs": [],
   "source": [
    "import py2cytoscape.util.util_networkx as util_nx "
   ]
  },
  {
   "cell_type": "code",
   "execution_count": 6,
   "metadata": {
    "collapsed": false
   },
   "outputs": [],
   "source": [
    "from inferelator_ng import design_response as dr"
   ]
  },
  {
   "cell_type": "code",
   "execution_count": 17,
   "metadata": {
    "collapsed": true
   },
   "outputs": [],
   "source": [
    "from py2cytoscape.data.cynetwork import CyNetwork\n",
    "from py2cytoscape.data.cyrest_client import CyRestClient\n",
    "from py2cytoscape.data.style import StyleUtil\n",
    "import py2cytoscape.util.cytoscapejs as cyjs\n",
    "import py2cytoscape.cytoscapejs as renderer\n",
    "import requests\n",
    "import json\n",
    "from py2cytoscape import util as cyp"
   ]
  },
  {
   "cell_type": "code",
   "execution_count": 4,
   "metadata": {
    "collapsed": true
   },
   "outputs": [],
   "source": [
    "ddir = \"/Users/elizachang/code/inferelator_ng/data/bsubtilis/\""
   ]
  },
  {
   "cell_type": "code",
   "execution_count": 10,
   "metadata": {
    "collapsed": false
   },
   "outputs": [
    {
     "name": "stderr",
     "output_type": "stream",
     "text": [
      "/Users/elizachang/miniconda2/envs/g2/lib/python2.7/site-packages/matplotlib/font_manager.py:273: UserWarning: Matplotlib is building the font cache using fc-list. This may take a moment.\n",
      "  warnings.warn('Matplotlib is building the font cache using fc-list. This may take a moment.')\n"
     ]
    }
   ],
   "source": [
    "%matplotlib inline"
   ]
  },
  {
   "cell_type": "code",
   "execution_count": 7,
   "metadata": {
    "collapsed": false,
    "scrolled": true
   },
   "outputs": [],
   "source": [
    "metadata_df = dr.load_metadata_df(ddir + \"e_metadata.csv\")"
   ]
  },
  {
   "cell_type": "code",
   "execution_count": 46,
   "metadata": {
    "collapsed": false,
    "scrolled": false
   },
   "outputs": [],
   "source": [
    "metadata_df = metadata_df.fillna(value='t0')"
   ]
  },
  {
   "cell_type": "code",
   "execution_count": 57,
   "metadata": {
    "collapsed": true
   },
   "outputs": [],
   "source": [
    "g = nx.Graph()"
   ]
  },
  {
   "cell_type": "code",
   "execution_count": 58,
   "metadata": {
    "collapsed": false,
    "scrolled": true
   },
   "outputs": [],
   "source": [
    "for row in metadata_df[[\"prev_condition\", \"condition\"]].itertuples(name=None):\n",
    "    #print row\n",
    "    g.add_edge(row[1], row[2])"
   ]
  },
  {
   "cell_type": "markdown",
   "metadata": {},
   "source": [
    "### Cytoscape Viz\n",
    "\n",
    "From https://github.com/idekerlab/cy-rest-python/blob/f789203044b4dc870a8b63572a935f92fbd9b89d/basic/CytoscapeREST_Basic3.ipynb"
   ]
  },
  {
   "cell_type": "code",
   "execution_count": 49,
   "metadata": {
    "collapsed": false
   },
   "outputs": [
    {
     "data": {
      "text/plain": [
       "<Response [200]>"
      ]
     },
     "execution_count": 49,
     "metadata": {},
     "output_type": "execute_result"
    }
   ],
   "source": [
    "# Basic Setup\n",
    "PORT_NUMBER = 1234\n",
    "\n",
    "#IP = '192.168.1.1'\n",
    "IP = 'localhost'\n",
    "\n",
    "BASE = 'http://' + IP + ':' + str(PORT_NUMBER) + '/v1/'\n",
    "\n",
    "# Header for posting data to the server as JSON\n",
    "HEADERS = {'Content-Type': 'application/json'}\n",
    "\n",
    "\n",
    "# Delete all networks in current session\n",
    "requests.delete(BASE + 'session')"
   ]
  },
  {
   "cell_type": "code",
   "execution_count": 19,
   "metadata": {
    "collapsed": true
   },
   "outputs": [],
   "source": [
    "from IPython.display import Image"
   ]
  },
  {
   "cell_type": "code",
   "execution_count": 59,
   "metadata": {
    "collapsed": false
   },
   "outputs": [],
   "source": [
    "#dg.has_node('t0')\n",
    "g.remove_node('t0')"
   ]
  },
  {
   "cell_type": "code",
   "execution_count": 60,
   "metadata": {
    "collapsed": false,
    "scrolled": false
   },
   "outputs": [
    {
     "data": {
      "text/plain": [
       "<Response [200]>"
      ]
     },
     "execution_count": 60,
     "metadata": {},
     "output_type": "execute_result"
    }
   ],
   "source": [
    "cyjs_network = cyp.from_networkx(g)\n",
    "res1 = requests.post(BASE + 'networks', \n",
    "                     data=json.dumps(cyjs_network), \n",
    "                     headers=HEADERS)\n",
    "suid_res = res1.json()\n",
    "suid = suid_res['networkSUID']\n",
    "requests.get(BASE + 'apply/layouts/force-directed/' + str(suid))\n",
    "#Image(BASE+'networks/' + str(suid) + '/views/first.png')"
   ]
  },
  {
   "cell_type": "code",
   "execution_count": 61,
   "metadata": {
    "collapsed": false
   },
   "outputs": [
    {
     "data": {
      "image/png": "[encoded data removed]",
      "text/plain": [
       "<IPython.core.display.Image object>"
      ]
     },
     "execution_count": 61,
     "metadata": {},
     "output_type": "execute_result"
    }
   ],
   "source": [
    "style_name = 'My Visual Style'\n",
    "\n",
    "my_style = {\n",
    "  \"title\" : style_name,\n",
    "  \"defaults\" : [ {\n",
    "    \"visualProperty\" : \"EDGE_WIDTH\",\n",
    "    \"value\" : 2.0\n",
    "  }, {\n",
    "    \"visualProperty\" : \"EDGE_STROKE_UNSELECTED_PAINT\",\n",
    "    \"value\" : \"#555555\"\n",
    "  }, {\n",
    "    \"visualProperty\" : \"NODE_FILL_COLOR\",\n",
    "    \"value\" : \"#00ddee\"\n",
    "  },{\n",
    "    \"visualProperty\" : \"NODE_BORDER_WIDTH\",\n",
    "    \"value\" : 0\n",
    "  }, {\n",
    "    \"visualProperty\" : \"NODE_SIZE\",\n",
    "    \"value\" : 30\n",
    "  }],\n",
    "  \"mappings\" : [ {\n",
    "    \"mappingType\" : \"discrete\",\n",
    "    \"mappingColumn\" : \"degree\",\n",
    "    \"mappingColumnType\" : \"Double\",\n",
    "    \"visualProperty\" : \"NODE_FILL_COLOR\",\n",
    "    \"map\" : [ {\n",
    "      \"key\" : \"1\",\n",
    "      \"value\" : \"#eeeeee\"\n",
    "    }, {\n",
    "      \"key\" : \"4\",\n",
    "      \"value\" : \"#00FF11\"\n",
    "    } ]\n",
    "  }, {\n",
    "    \"mappingType\" : \"passthrough\",\n",
    "    \"mappingColumn\" : \"name\",\n",
    "    \"mappingColumnType\" : \"String\",\n",
    "    \"visualProperty\" : \"NODE_LABEL\"\n",
    "  }, {\n",
    "    \"mappingType\": \"continuous\",\n",
    "    \"visualProperty\": \"NODE_SIZE\", \n",
    "    \"mappingColumnType\": \"Double\", \n",
    "    \"mappingColumn\": \"degree\",\n",
    "    \"points\": [\n",
    "        {\n",
    "            \"lesser\": \"1.0\", \n",
    "            \"equal\": \"20.0\", \n",
    "            \"value\": 1, \n",
    "            \"greater\": \"20.0\"\n",
    "        }, \n",
    "        {\n",
    "            \"lesser\": \"100.0\", \n",
    "            \"equal\": \"100.0\", \n",
    "            \"value\": 120, \n",
    "            \"greater\": \"1.0\"\n",
    "        }\n",
    "    ] }\n",
    "    ]\n",
    "}\n",
    "\n",
    "# Delete all style\n",
    "requests.delete(BASE + \"styles\")\n",
    "\n",
    "# Create new Visual Style\n",
    "res = requests.post(BASE + \"styles\", data=json.dumps(my_style), headers=HEADERS)\n",
    "new_style_name = res.json()['title']\n",
    "\n",
    "# Apply it to current netwrok\n",
    "requests.get(BASE + 'apply/styles/' + new_style_name + '/' + str(suid))\n",
    "\n",
    "# Display it here!\n",
    "Image(BASE+'networks/' + str(suid) + '/views/first.png')"
   ]
  },
  {
   "cell_type": "markdown",
   "metadata": {},
   "source": [
    "### Connected Components (distinct time series) "
   ]
  },
  {
   "cell_type": "code",
   "execution_count": 74,
   "metadata": {
    "collapsed": false
   },
   "outputs": [],
   "source": [
    "connected_components_generator = nx.connected_components(g)"
   ]
  },
  {
   "cell_type": "code",
   "execution_count": 75,
   "metadata": {
    "collapsed": false,
    "scrolled": true
   },
   "outputs": [],
   "source": [
    "cc_list = sorted(connected_components_generator, key = len, reverse=True)"
   ]
  },
  {
   "cell_type": "code",
   "execution_count": 77,
   "metadata": {
    "collapsed": true
   },
   "outputs": [],
   "source": [
    "chain_lengths = [len(x) for x in cc_list]"
   ]
  },
  {
   "cell_type": "code",
   "execution_count": 76,
   "metadata": {
    "collapsed": false,
    "scrolled": true
   },
   "outputs": [
    {
     "data": {
      "text/plain": [
       "[{'T-0.40H_1',\n",
       "  'T-1.10H_1',\n",
       "  'T-1.40H_1',\n",
       "  'T-2.40H_1',\n",
       "  'T-3.40H_1',\n",
       "  'T-4.40H_1',\n",
       "  'T-5.40H_1',\n",
       "  'T0.0H_1',\n",
       "  'T0.30H_1',\n",
       "  'T1.0H_1',\n",
       "  'T1.30H_1',\n",
       "  'T2.0H_1',\n",
       "  'T2.30H_1',\n",
       "  'T3.0H_1',\n",
       "  'T3.30H_1',\n",
       "  'T4.0H_1',\n",
       "  'T5.0H_1'},\n",
       " {'MG+10_3',\n",
       "  'MG+120_3',\n",
       "  'MG+150_3',\n",
       "  'MG+15_3',\n",
       "  'MG+25_3',\n",
       "  'MG+45_3',\n",
       "  'MG+5_3',\n",
       "  'MG+60_3',\n",
       "  'MG+90_3',\n",
       "  'MG-0.1_3',\n",
       "  'MG-0.2_3'},\n",
       " {'GM+10_3',\n",
       "  'GM+120_3',\n",
       "  'GM+150_3',\n",
       "  'GM+15_3',\n",
       "  'GM+25_3',\n",
       "  'GM+45_3',\n",
       "  'GM+5_3',\n",
       "  'GM+60_3',\n",
       "  'GM+90_3',\n",
       "  'GM-0.1_3',\n",
       "  'GM-0.2_3'},\n",
       " {'MG+10_2',\n",
       "  'MG+120_2',\n",
       "  'MG+15_2',\n",
       "  'MG+25_2',\n",
       "  'MG+45_2',\n",
       "  'MG+60_2',\n",
       "  'MG+90_2',\n",
       "  'MG+t5_2',\n",
       "  'MG-0.1_2',\n",
       "  'MG-0.2_2'},\n",
       " {'GM+10_2',\n",
       "  'GM+150_2',\n",
       "  'GM+15_2',\n",
       "  'GM+25_2',\n",
       "  'GM+45_2',\n",
       "  'GM+5_2',\n",
       "  'GM+60_2',\n",
       "  'GM+90_2',\n",
       "  'GM-0.1_2',\n",
       "  'GM-0.2_2'},\n",
       " {'GM+120_1',\n",
       "  'GM+150_1',\n",
       "  'GM+15_1',\n",
       "  'GM+25_1',\n",
       "  'GM+45_1',\n",
       "  'GM+5_1',\n",
       "  'GM+60_1',\n",
       "  'GM+90_1',\n",
       "  'GM-0.1_1',\n",
       "  'GM-0.2_1'},\n",
       " {'MG+10_1',\n",
       "  'MG+120_1',\n",
       "  'MG+150_1',\n",
       "  'MG+15_1',\n",
       "  'MG+25_1',\n",
       "  'MG+45_1',\n",
       "  'MG+5_1',\n",
       "  'MG-0.1_1'},\n",
       " {'S0_1', 'S1_1', 'S2_1', 'S3_1', 'S4_1', 'S5_1', 'S6_1'},\n",
       " {'S0_3', 'S1_3', 'S2_3', 'S3_3', 'S4_3', 'S5_3', 'S6_3'},\n",
       " {'S0_2', 'S1_2', 'S2_2', 'S3_2', 'S4_2', 'S5_2', 'S6_2'},\n",
       " {'M0t45_2', 'M0t90_2', 'M40t45_2', 'M40t90_2', 'Mt0_2'},\n",
       " {'M0t45_1', 'M0t90_1', 'M40t45_1', 'M40t90_1', 'Mt0_1'},\n",
       " {'M0t45_3', 'M0t90_3', 'M40t45_3', 'M40t90_3', 'Mt0_3'},\n",
       " {'BMM_1', 'Cold_1', 'Etha_1', 'Heat_1'},\n",
       " {'BMM_3', 'Cold_3', 'Etha_3', 'Heat_3'},\n",
       " {'BMM_2', 'Cold_2', 'Etha_2', 'Heat_2'},\n",
       " {'dia0_2', 'dia15_2', 'dia5_2'},\n",
       " {'dia0_3', 'dia15_3', 'dia5_3'},\n",
       " {'dia0_1', 'dia15_1', 'dia5_1'},\n",
       " {'S6_5', 'S7_5', 'S8_5'},\n",
       " {'S6_4', 'S7_4', 'S8_4'},\n",
       " {'G135_3', 'G150_3', 'G180_3'},\n",
       " {'G135_1', 'G150_1', 'G180_1'},\n",
       " {'S6_6', 'S7_6'},\n",
       " {'G150_2', 'G180_2'},\n",
       " {'SMM_1', 'Salt_1'},\n",
       " {'SMM_3', 'Salt_3'},\n",
       " {'SMM_2', 'Salt_2'},\n",
       " {'C30_1', 'C90_1'},\n",
       " {'C30_2', 'C90_2'},\n",
       " {'LoTm_1'},\n",
       " {'HiTm_3'},\n",
       " {'HiTm_2'},\n",
       " {'HiTm_1'},\n",
       " {'SMMPr_2'},\n",
       " {'SMMPr_1'},\n",
       " {'HPh_2'},\n",
       " {'SMMPr_3'},\n",
       " {'BC_1'},\n",
       " {'BC_2'},\n",
       " {'LBtran_1'},\n",
       " {'LBtran_2'},\n",
       " {'LBtran_3'},\n",
       " {'Diami_1'},\n",
       " {'H2O2_2'},\n",
       " {'H2O2_3'},\n",
       " {'LPh_2'},\n",
       " {'H2O2_1'},\n",
       " {'Diami_2'},\n",
       " {'M9stat_2'},\n",
       " {'Fru_1'},\n",
       " {'Fru_3'},\n",
       " {'Fru_2'},\n",
       " {'G+S_1'},\n",
       " {'HPh_1'},\n",
       " {'G+S_3'},\n",
       " {'G+S_2'},\n",
       " {'LBstat_1'},\n",
       " {'LBstat_3'},\n",
       " {'aero_1'},\n",
       " {'aero_2'},\n",
       " {'aero_3'},\n",
       " {'LPhT_2'},\n",
       " {'LBGtran_2'},\n",
       " {'ferm_3'},\n",
       " {'Pyr_3'},\n",
       " {'HiOs_1'},\n",
       " {'HiOs_2'},\n",
       " {'HiOs_3'},\n",
       " {'Glucon_3'},\n",
       " {'B36_1'},\n",
       " {'LPhT_1'},\n",
       " {'LoTm_3'},\n",
       " {'ferm_1'},\n",
       " {'M9tran_1'},\n",
       " {'M9tran_2'},\n",
       " {'M9tran_3'},\n",
       " {'Oxctl_2'},\n",
       " {'Oxctl_3'},\n",
       " {'Oxctl_1'},\n",
       " {'LoTm_2'},\n",
       " {'BT_2'},\n",
       " {'BT_1'},\n",
       " {'BC/t_1'},\n",
       " {'M9exp_1'},\n",
       " {'M9exp_3'},\n",
       " {'M9exp_2'},\n",
       " {'HPh_3'},\n",
       " {'LBGtran_3'},\n",
       " {'Sw_1'},\n",
       " {'B36_2'},\n",
       " {'LPhT_3'},\n",
       " {'LBGstat_3'},\n",
       " {'LBGstat_2'},\n",
       " {'LBGstat_1'},\n",
       " {'B60_1'},\n",
       " {'B60_2'},\n",
       " {'Gly_2'},\n",
       " {'Gly_3'},\n",
       " {'Gly_1'},\n",
       " {'M+G_3'},\n",
       " {'M+G_2'},\n",
       " {'M+G_1'},\n",
       " {'Mal_3'},\n",
       " {'Pyr_1'},\n",
       " {'LBstat_2'},\n",
       " {'Pyr_2'},\n",
       " {'Glu_2'},\n",
       " {'Glu_1'},\n",
       " {'Diami_3'},\n",
       " {'Glucon_1'},\n",
       " {'Glu_3'},\n",
       " {'Sw_2'},\n",
       " {'LBexp_1'},\n",
       " {'LBexp_3'},\n",
       " {'LBexp_2'},\n",
       " {'Glucon_2'},\n",
       " {'M9stat_1'},\n",
       " {'BC/t_2'},\n",
       " {'ferm_2'},\n",
       " {'nit_1'},\n",
       " {'nit_3'},\n",
       " {'nit_2'},\n",
       " {'Paraq_1'},\n",
       " {'Paraq_3'},\n",
       " {'Paraq_2'},\n",
       " {'BI_2'},\n",
       " {'LPh_1'},\n",
       " {'M9stat_3'},\n",
       " {'BI_1'},\n",
       " {'Mal_2'},\n",
       " {'Mal_1'},\n",
       " {'LBGexp_3'},\n",
       " {'LBGexp_2'},\n",
       " {'LBGexp_1'},\n",
       " {'LPh_3'}]"
      ]
     },
     "execution_count": 76,
     "metadata": {},
     "output_type": "execute_result"
    }
   ],
   "source": [
    "cc_list"
   ]
  },
  {
   "cell_type": "code",
   "execution_count": 34,
   "metadata": {
    "collapsed": false
   },
   "outputs": [],
   "source": [
    "from scipy.stats import describe"
   ]
  },
  {
   "cell_type": "code",
   "execution_count": 78,
   "metadata": {
    "collapsed": false
   },
   "outputs": [
    {
     "data": {
      "text/plain": [
       "DescribeResult(nobs=136, minmax=(1, 17), mean=1.9558823529411764, variance=6.2350762527233128, skewness=3.379722033242291, kurtosis=12.518979538957218)"
      ]
     },
     "execution_count": 78,
     "metadata": {},
     "output_type": "execute_result"
    }
   ],
   "source": [
    "describe(chain_lengths)"
   ]
  }
 ],
 "metadata": {
  "kernelspec": {
   "display_name": "Python 2",
   "language": "python",
   "name": "python2"
  },
  "language_info": {
   "codemirror_mode": {
    "name": "ipython",
    "version": 2
   },
   "file_extension": ".py",
   "mimetype": "text/x-python",
   "name": "python",
   "nbconvert_exporter": "python",
   "pygments_lexer": "ipython2",
   "version": "2.7.12"
  }
 },
 "nbformat": 4,
 "nbformat_minor": 0
}
